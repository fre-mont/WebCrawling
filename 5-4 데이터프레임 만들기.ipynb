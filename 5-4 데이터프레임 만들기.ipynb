{
 "cells": [
  {
   "cell_type": "markdown",
   "id": "b7026691",
   "metadata": {},
   "source": [
    "### 1. 데이터프레임이란"
   ]
  },
  {
   "cell_type": "code",
   "execution_count": 1,
   "id": "ac667531",
   "metadata": {},
   "outputs": [],
   "source": [
    "import pandas as pd"
   ]
  },
  {
   "cell_type": "code",
   "execution_count": 3,
   "id": "a6ae901a",
   "metadata": {},
   "outputs": [],
   "source": [
    "data = {'name' : ['Mark', 'Jane', 'Chris','Ryan'], 'age' :[33,32,44,42], 'score' :[91.3,83.4,77.5,87.7]}"
   ]
  },
  {
   "cell_type": "code",
   "execution_count": 4,
   "id": "25b9a080",
   "metadata": {},
   "outputs": [],
   "source": [
    "df = pd.DataFrame(data)"
   ]
  },
  {
   "cell_type": "code",
   "execution_count": 5,
   "id": "ec1cf14a",
   "metadata": {},
   "outputs": [
    {
     "data": {
      "text/html": [
       "<div>\n",
       "<style scoped>\n",
       "    .dataframe tbody tr th:only-of-type {\n",
       "        vertical-align: middle;\n",
       "    }\n",
       "\n",
       "    .dataframe tbody tr th {\n",
       "        vertical-align: top;\n",
       "    }\n",
       "\n",
       "    .dataframe thead th {\n",
       "        text-align: right;\n",
       "    }\n",
       "</style>\n",
       "<table border=\"1\" class=\"dataframe\">\n",
       "  <thead>\n",
       "    <tr style=\"text-align: right;\">\n",
       "      <th></th>\n",
       "      <th>name</th>\n",
       "      <th>age</th>\n",
       "      <th>score</th>\n",
       "    </tr>\n",
       "  </thead>\n",
       "  <tbody>\n",
       "    <tr>\n",
       "      <th>0</th>\n",
       "      <td>Mark</td>\n",
       "      <td>33</td>\n",
       "      <td>91.3</td>\n",
       "    </tr>\n",
       "    <tr>\n",
       "      <th>1</th>\n",
       "      <td>Jane</td>\n",
       "      <td>32</td>\n",
       "      <td>83.4</td>\n",
       "    </tr>\n",
       "    <tr>\n",
       "      <th>2</th>\n",
       "      <td>Chris</td>\n",
       "      <td>44</td>\n",
       "      <td>77.5</td>\n",
       "    </tr>\n",
       "    <tr>\n",
       "      <th>3</th>\n",
       "      <td>Ryan</td>\n",
       "      <td>42</td>\n",
       "      <td>87.7</td>\n",
       "    </tr>\n",
       "  </tbody>\n",
       "</table>\n",
       "</div>"
      ],
      "text/plain": [
       "    name  age  score\n",
       "0   Mark   33   91.3\n",
       "1   Jane   32   83.4\n",
       "2  Chris   44   77.5\n",
       "3   Ryan   42   87.7"
      ]
     },
     "execution_count": 5,
     "metadata": {},
     "output_type": "execute_result"
    }
   ],
   "source": [
    "df"
   ]
  },
  {
   "cell_type": "code",
   "execution_count": 6,
   "id": "6576c668",
   "metadata": {},
   "outputs": [
    {
     "data": {
      "text/plain": [
       "name     MarkJaneChrisRyan\n",
       "age                    151\n",
       "score                339.9\n",
       "dtype: object"
      ]
     },
     "execution_count": 6,
     "metadata": {},
     "output_type": "execute_result"
    }
   ],
   "source": [
    "df.sum()"
   ]
  },
  {
   "cell_type": "code",
   "execution_count": 7,
   "id": "2a1fe013",
   "metadata": {},
   "outputs": [
    {
     "data": {
      "text/plain": [
       "age      37.750\n",
       "score    84.975\n",
       "dtype: float64"
      ]
     },
     "execution_count": 7,
     "metadata": {},
     "output_type": "execute_result"
    }
   ],
   "source": [
    "df.mean()"
   ]
  },
  {
   "cell_type": "code",
   "execution_count": 8,
   "id": "aec46dc1",
   "metadata": {},
   "outputs": [
    {
     "data": {
      "text/plain": [
       "0    33\n",
       "1    32\n",
       "2    44\n",
       "3    42\n",
       "Name: age, dtype: int64"
      ]
     },
     "execution_count": 8,
     "metadata": {},
     "output_type": "execute_result"
    }
   ],
   "source": [
    "df.age  # df['age']와 동일함"
   ]
  },
  {
   "cell_type": "markdown",
   "id": "8356d3da",
   "metadata": {},
   "source": [
    "### CSV 파일 불러와 데이터프레임으로 만들기\n",
    "- 05장 실습파일 폴더에서 apt.csv 찾기 "
   ]
  },
  {
   "cell_type": "code",
   "execution_count": 10,
   "id": "3cd69e77",
   "metadata": {},
   "outputs": [],
   "source": [
    "import pandas as pd"
   ]
  },
  {
   "cell_type": "code",
   "execution_count": 27,
   "id": "e7384865",
   "metadata": {},
   "outputs": [],
   "source": [
    "import re,os"
   ]
  },
  {
   "cell_type": "code",
   "execution_count": 34,
   "id": "ae26f82d",
   "metadata": {},
   "outputs": [],
   "source": [
    "os.chdir(r'C:\\Users\\AI06\\Desktop\\Python\\Pandas\\do-it-python\\05')"
   ]
  },
  {
   "cell_type": "code",
   "execution_count": 37,
   "id": "9cde9f65",
   "metadata": {},
   "outputs": [],
   "source": [
    "df = pd.read_csv('apt.csv', encoding ='cp949')"
   ]
  },
  {
   "cell_type": "code",
   "execution_count": 38,
   "id": "d03e7dad",
   "metadata": {},
   "outputs": [
    {
     "data": {
      "text/plain": [
       "42758"
      ]
     },
     "execution_count": 38,
     "metadata": {},
     "output_type": "execute_result"
    }
   ],
   "source": [
    "len(df)"
   ]
  },
  {
   "cell_type": "markdown",
   "id": "0d9dbed4",
   "metadata": {},
   "source": [
    "#### 1. 자료의 일부만 출력하기"
   ]
  },
  {
   "cell_type": "code",
   "execution_count": 40,
   "id": "7872c983",
   "metadata": {},
   "outputs": [
    {
     "data": {
      "text/html": [
       "<div>\n",
       "<style scoped>\n",
       "    .dataframe tbody tr th:only-of-type {\n",
       "        vertical-align: middle;\n",
       "    }\n",
       "\n",
       "    .dataframe tbody tr th {\n",
       "        vertical-align: top;\n",
       "    }\n",
       "\n",
       "    .dataframe thead th {\n",
       "        text-align: right;\n",
       "    }\n",
       "</style>\n",
       "<table border=\"1\" class=\"dataframe\">\n",
       "  <thead>\n",
       "    <tr style=\"text-align: right;\">\n",
       "      <th></th>\n",
       "      <th>지역</th>\n",
       "      <th>번지</th>\n",
       "      <th>본번</th>\n",
       "      <th>부번</th>\n",
       "      <th>아파트</th>\n",
       "      <th>면적</th>\n",
       "      <th>계약년월</th>\n",
       "      <th>계약일</th>\n",
       "      <th>가격</th>\n",
       "      <th>층</th>\n",
       "      <th>건축년도</th>\n",
       "      <th>도로명</th>\n",
       "    </tr>\n",
       "  </thead>\n",
       "  <tbody>\n",
       "    <tr>\n",
       "      <th>0</th>\n",
       "      <td>강원도 강릉시 견소동</td>\n",
       "      <td>202</td>\n",
       "      <td>202</td>\n",
       "      <td>0</td>\n",
       "      <td>송정한신</td>\n",
       "      <td>59.800</td>\n",
       "      <td>201910</td>\n",
       "      <td>4</td>\n",
       "      <td>10900</td>\n",
       "      <td>5</td>\n",
       "      <td>1997</td>\n",
       "      <td>경강로2539번길 8</td>\n",
       "    </tr>\n",
       "    <tr>\n",
       "      <th>1</th>\n",
       "      <td>강원도 강릉시 견소동</td>\n",
       "      <td>202</td>\n",
       "      <td>202</td>\n",
       "      <td>0</td>\n",
       "      <td>송정한신</td>\n",
       "      <td>116.175</td>\n",
       "      <td>201910</td>\n",
       "      <td>31</td>\n",
       "      <td>18500</td>\n",
       "      <td>10</td>\n",
       "      <td>1997</td>\n",
       "      <td>경강로2539번길 8</td>\n",
       "    </tr>\n",
       "    <tr>\n",
       "      <th>2</th>\n",
       "      <td>강원도 강릉시 견소동</td>\n",
       "      <td>289</td>\n",
       "      <td>289</td>\n",
       "      <td>0</td>\n",
       "      <td>송정해변신도브래뉴아파트</td>\n",
       "      <td>84.990</td>\n",
       "      <td>201910</td>\n",
       "      <td>5</td>\n",
       "      <td>25000</td>\n",
       "      <td>6</td>\n",
       "      <td>2005</td>\n",
       "      <td>경강로2539번길 22</td>\n",
       "    </tr>\n",
       "    <tr>\n",
       "      <th>3</th>\n",
       "      <td>강원도 강릉시 견소동</td>\n",
       "      <td>289</td>\n",
       "      <td>289</td>\n",
       "      <td>0</td>\n",
       "      <td>송정해변신도브래뉴아파트</td>\n",
       "      <td>84.990</td>\n",
       "      <td>201910</td>\n",
       "      <td>12</td>\n",
       "      <td>20600</td>\n",
       "      <td>3</td>\n",
       "      <td>2005</td>\n",
       "      <td>경강로2539번길 22</td>\n",
       "    </tr>\n",
       "    <tr>\n",
       "      <th>4</th>\n",
       "      <td>강원도 강릉시 견소동</td>\n",
       "      <td>289</td>\n",
       "      <td>289</td>\n",
       "      <td>0</td>\n",
       "      <td>송정해변신도브래뉴아파트</td>\n",
       "      <td>84.990</td>\n",
       "      <td>201910</td>\n",
       "      <td>20</td>\n",
       "      <td>20500</td>\n",
       "      <td>1</td>\n",
       "      <td>2005</td>\n",
       "      <td>경강로2539번길 22</td>\n",
       "    </tr>\n",
       "  </tbody>\n",
       "</table>\n",
       "</div>"
      ],
      "text/plain": [
       "            지역   번지   본번  부번           아파트       면적    계약년월  계약일     가격   층  \\\n",
       "0  강원도 강릉시 견소동  202  202   0          송정한신   59.800  201910    4  10900   5   \n",
       "1  강원도 강릉시 견소동  202  202   0          송정한신  116.175  201910   31  18500  10   \n",
       "2  강원도 강릉시 견소동  289  289   0  송정해변신도브래뉴아파트   84.990  201910    5  25000   6   \n",
       "3  강원도 강릉시 견소동  289  289   0  송정해변신도브래뉴아파트   84.990  201910   12  20600   3   \n",
       "4  강원도 강릉시 견소동  289  289   0  송정해변신도브래뉴아파트   84.990  201910   20  20500   1   \n",
       "\n",
       "   건축년도           도로명  \n",
       "0  1997   경강로2539번길 8  \n",
       "1  1997   경강로2539번길 8  \n",
       "2  2005  경강로2539번길 22  \n",
       "3  2005  경강로2539번길 22  \n",
       "4  2005  경강로2539번길 22  "
      ]
     },
     "execution_count": 40,
     "metadata": {},
     "output_type": "execute_result"
    }
   ],
   "source": [
    "df.head()   # 상위 5개의 데이터"
   ]
  },
  {
   "cell_type": "code",
   "execution_count": 41,
   "id": "951a358d",
   "metadata": {},
   "outputs": [
    {
     "data": {
      "text/html": [
       "<div>\n",
       "<style scoped>\n",
       "    .dataframe tbody tr th:only-of-type {\n",
       "        vertical-align: middle;\n",
       "    }\n",
       "\n",
       "    .dataframe tbody tr th {\n",
       "        vertical-align: top;\n",
       "    }\n",
       "\n",
       "    .dataframe thead th {\n",
       "        text-align: right;\n",
       "    }\n",
       "</style>\n",
       "<table border=\"1\" class=\"dataframe\">\n",
       "  <thead>\n",
       "    <tr style=\"text-align: right;\">\n",
       "      <th></th>\n",
       "      <th>지역</th>\n",
       "      <th>번지</th>\n",
       "      <th>본번</th>\n",
       "      <th>부번</th>\n",
       "      <th>아파트</th>\n",
       "      <th>면적</th>\n",
       "      <th>계약년월</th>\n",
       "      <th>계약일</th>\n",
       "      <th>가격</th>\n",
       "      <th>층</th>\n",
       "      <th>건축년도</th>\n",
       "      <th>도로명</th>\n",
       "    </tr>\n",
       "  </thead>\n",
       "  <tbody>\n",
       "    <tr>\n",
       "      <th>42753</th>\n",
       "      <td>충청북도 충주시 호암동</td>\n",
       "      <td>547-6</td>\n",
       "      <td>547</td>\n",
       "      <td>6</td>\n",
       "      <td>호반현대</td>\n",
       "      <td>59.76</td>\n",
       "      <td>201910</td>\n",
       "      <td>29</td>\n",
       "      <td>7000</td>\n",
       "      <td>3</td>\n",
       "      <td>1994</td>\n",
       "      <td>신촌2길 28</td>\n",
       "    </tr>\n",
       "    <tr>\n",
       "      <th>42754</th>\n",
       "      <td>충청북도 충주시 호암동</td>\n",
       "      <td>221-23</td>\n",
       "      <td>221</td>\n",
       "      <td>23</td>\n",
       "      <td>호암리버빌(1단지)</td>\n",
       "      <td>84.68</td>\n",
       "      <td>201910</td>\n",
       "      <td>5</td>\n",
       "      <td>12000</td>\n",
       "      <td>15</td>\n",
       "      <td>2002</td>\n",
       "      <td>원호암5길 32</td>\n",
       "    </tr>\n",
       "    <tr>\n",
       "      <th>42755</th>\n",
       "      <td>충청북도 충주시 호암동</td>\n",
       "      <td>221-23</td>\n",
       "      <td>221</td>\n",
       "      <td>23</td>\n",
       "      <td>호암리버빌(1단지)</td>\n",
       "      <td>84.68</td>\n",
       "      <td>201910</td>\n",
       "      <td>15</td>\n",
       "      <td>11000</td>\n",
       "      <td>7</td>\n",
       "      <td>2002</td>\n",
       "      <td>원호암5길 32</td>\n",
       "    </tr>\n",
       "    <tr>\n",
       "      <th>42756</th>\n",
       "      <td>충청북도 충주시 호암동</td>\n",
       "      <td>221-23</td>\n",
       "      <td>221</td>\n",
       "      <td>23</td>\n",
       "      <td>호암리버빌(1단지)</td>\n",
       "      <td>84.68</td>\n",
       "      <td>201910</td>\n",
       "      <td>17</td>\n",
       "      <td>12000</td>\n",
       "      <td>14</td>\n",
       "      <td>2002</td>\n",
       "      <td>원호암5길 32</td>\n",
       "    </tr>\n",
       "    <tr>\n",
       "      <th>42757</th>\n",
       "      <td>충청북도 충주시 호암동</td>\n",
       "      <td>221-23</td>\n",
       "      <td>221</td>\n",
       "      <td>23</td>\n",
       "      <td>호암리버빌(1단지)</td>\n",
       "      <td>84.68</td>\n",
       "      <td>201910</td>\n",
       "      <td>26</td>\n",
       "      <td>11200</td>\n",
       "      <td>11</td>\n",
       "      <td>2002</td>\n",
       "      <td>원호암5길 32</td>\n",
       "    </tr>\n",
       "  </tbody>\n",
       "</table>\n",
       "</div>"
      ],
      "text/plain": [
       "                 지역      번지   본번  부번         아파트     면적    계약년월  계약일     가격  \\\n",
       "42753  충청북도 충주시 호암동   547-6  547   6        호반현대  59.76  201910   29   7000   \n",
       "42754  충청북도 충주시 호암동  221-23  221  23  호암리버빌(1단지)  84.68  201910    5  12000   \n",
       "42755  충청북도 충주시 호암동  221-23  221  23  호암리버빌(1단지)  84.68  201910   15  11000   \n",
       "42756  충청북도 충주시 호암동  221-23  221  23  호암리버빌(1단지)  84.68  201910   17  12000   \n",
       "42757  충청북도 충주시 호암동  221-23  221  23  호암리버빌(1단지)  84.68  201910   26  11200   \n",
       "\n",
       "        층  건축년도       도로명  \n",
       "42753   3  1994   신촌2길 28  \n",
       "42754  15  2002  원호암5길 32  \n",
       "42755   7  2002  원호암5길 32  \n",
       "42756  14  2002  원호암5길 32  \n",
       "42757  11  2002  원호암5길 32  "
      ]
     },
     "execution_count": 41,
     "metadata": {},
     "output_type": "execute_result"
    }
   ],
   "source": [
    "df.tail()  # 하위 5개의 데이터"
   ]
  },
  {
   "cell_type": "markdown",
   "id": "8652519a",
   "metadata": {},
   "source": [
    "#### 2. 열의 전체 자료 출력하기"
   ]
  },
  {
   "cell_type": "code",
   "execution_count": 42,
   "id": "bcd79d75",
   "metadata": {},
   "outputs": [
    {
     "data": {
      "text/plain": [
       "0         강원도 강릉시 견소동\n",
       "1         강원도 강릉시 견소동\n",
       "2         강원도 강릉시 견소동\n",
       "3         강원도 강릉시 견소동\n",
       "4         강원도 강릉시 견소동\n",
       "             ...     \n",
       "42753    충청북도 충주시 호암동\n",
       "42754    충청북도 충주시 호암동\n",
       "42755    충청북도 충주시 호암동\n",
       "42756    충청북도 충주시 호암동\n",
       "42757    충청북도 충주시 호암동\n",
       "Name: 지역, Length: 42758, dtype: object"
      ]
     },
     "execution_count": 42,
     "metadata": {},
     "output_type": "execute_result"
    }
   ],
   "source": [
    "df.지역"
   ]
  },
  {
   "cell_type": "code",
   "execution_count": 44,
   "id": "8a93062e",
   "metadata": {},
   "outputs": [
    {
     "data": {
      "text/plain": [
       "0        False\n",
       "1        False\n",
       "2        False\n",
       "3        False\n",
       "4        False\n",
       "         ...  \n",
       "42753    False\n",
       "42754    False\n",
       "42755    False\n",
       "42756    False\n",
       "42757    False\n",
       "Name: 면적, Length: 42758, dtype: bool"
      ]
     },
     "execution_count": 44,
     "metadata": {},
     "output_type": "execute_result"
    }
   ],
   "source": [
    "df.면적>130  # True, False로 나눠서 보여줌 "
   ]
  },
  {
   "cell_type": "markdown",
   "id": "c306cbed",
   "metadata": {},
   "source": [
    "#### 3. 조건별로 출력하기"
   ]
  },
  {
   "cell_type": "code",
   "execution_count": 45,
   "id": "7e8b2e69",
   "metadata": {},
   "outputs": [
    {
     "data": {
      "text/html": [
       "<div>\n",
       "<style scoped>\n",
       "    .dataframe tbody tr th:only-of-type {\n",
       "        vertical-align: middle;\n",
       "    }\n",
       "\n",
       "    .dataframe tbody tr th {\n",
       "        vertical-align: top;\n",
       "    }\n",
       "\n",
       "    .dataframe thead th {\n",
       "        text-align: right;\n",
       "    }\n",
       "</style>\n",
       "<table border=\"1\" class=\"dataframe\">\n",
       "  <thead>\n",
       "    <tr style=\"text-align: right;\">\n",
       "      <th></th>\n",
       "      <th>지역</th>\n",
       "      <th>번지</th>\n",
       "      <th>본번</th>\n",
       "      <th>부번</th>\n",
       "      <th>아파트</th>\n",
       "      <th>면적</th>\n",
       "      <th>계약년월</th>\n",
       "      <th>계약일</th>\n",
       "      <th>가격</th>\n",
       "      <th>층</th>\n",
       "      <th>건축년도</th>\n",
       "      <th>도로명</th>\n",
       "    </tr>\n",
       "  </thead>\n",
       "  <tbody>\n",
       "    <tr>\n",
       "      <th>6</th>\n",
       "      <td>강원도 강릉시 교동</td>\n",
       "      <td>1982</td>\n",
       "      <td>1982</td>\n",
       "      <td>0</td>\n",
       "      <td>강릉교동롯데캐슬1단지</td>\n",
       "      <td>135.1727</td>\n",
       "      <td>201910</td>\n",
       "      <td>21</td>\n",
       "      <td>34300</td>\n",
       "      <td>9</td>\n",
       "      <td>2009</td>\n",
       "      <td>화부산로99번길 12</td>\n",
       "    </tr>\n",
       "    <tr>\n",
       "      <th>39</th>\n",
       "      <td>강원도 강릉시 남문동</td>\n",
       "      <td>183-2</td>\n",
       "      <td>183</td>\n",
       "      <td>2</td>\n",
       "      <td>삼익그린맨션</td>\n",
       "      <td>164.7540</td>\n",
       "      <td>201910</td>\n",
       "      <td>15</td>\n",
       "      <td>21000</td>\n",
       "      <td>12</td>\n",
       "      <td>1992</td>\n",
       "      <td>홍제로 7-17</td>\n",
       "    </tr>\n",
       "    <tr>\n",
       "      <th>334</th>\n",
       "      <td>강원도 속초시 금호동</td>\n",
       "      <td>629</td>\n",
       "      <td>629</td>\n",
       "      <td>0</td>\n",
       "      <td>보람레이크더하임</td>\n",
       "      <td>156.7600</td>\n",
       "      <td>201910</td>\n",
       "      <td>16</td>\n",
       "      <td>29500</td>\n",
       "      <td>1</td>\n",
       "      <td>2008</td>\n",
       "      <td>영랑호반길 115-13</td>\n",
       "    </tr>\n",
       "    <tr>\n",
       "      <th>433</th>\n",
       "      <td>강원도 원주시 개운동</td>\n",
       "      <td>01월 28일</td>\n",
       "      <td>28</td>\n",
       "      <td>1</td>\n",
       "      <td>원주힐스테이트</td>\n",
       "      <td>133.9912</td>\n",
       "      <td>201910</td>\n",
       "      <td>5</td>\n",
       "      <td>26000</td>\n",
       "      <td>16</td>\n",
       "      <td>2006</td>\n",
       "      <td>행구로 54</td>\n",
       "    </tr>\n",
       "    <tr>\n",
       "      <th>434</th>\n",
       "      <td>강원도 원주시 개운동</td>\n",
       "      <td>01월 28일</td>\n",
       "      <td>28</td>\n",
       "      <td>1</td>\n",
       "      <td>원주힐스테이트</td>\n",
       "      <td>137.4292</td>\n",
       "      <td>201910</td>\n",
       "      <td>31</td>\n",
       "      <td>24000</td>\n",
       "      <td>14</td>\n",
       "      <td>2006</td>\n",
       "      <td>행구로 54</td>\n",
       "    </tr>\n",
       "    <tr>\n",
       "      <th>...</th>\n",
       "      <td>...</td>\n",
       "      <td>...</td>\n",
       "      <td>...</td>\n",
       "      <td>...</td>\n",
       "      <td>...</td>\n",
       "      <td>...</td>\n",
       "      <td>...</td>\n",
       "      <td>...</td>\n",
       "      <td>...</td>\n",
       "      <td>...</td>\n",
       "      <td>...</td>\n",
       "      <td>...</td>\n",
       "    </tr>\n",
       "    <tr>\n",
       "      <th>42595</th>\n",
       "      <td>충청북도 충주시 문화동</td>\n",
       "      <td>2260</td>\n",
       "      <td>2260</td>\n",
       "      <td>0</td>\n",
       "      <td>럭키</td>\n",
       "      <td>156.7900</td>\n",
       "      <td>201910</td>\n",
       "      <td>21</td>\n",
       "      <td>15000</td>\n",
       "      <td>3</td>\n",
       "      <td>1993</td>\n",
       "      <td>중원대로 3379</td>\n",
       "    </tr>\n",
       "    <tr>\n",
       "      <th>42607</th>\n",
       "      <td>충청북도 충주시 안림동</td>\n",
       "      <td>1166</td>\n",
       "      <td>1166</td>\n",
       "      <td>0</td>\n",
       "      <td>엘리시아</td>\n",
       "      <td>136.1287</td>\n",
       "      <td>201910</td>\n",
       "      <td>19</td>\n",
       "      <td>18500</td>\n",
       "      <td>12</td>\n",
       "      <td>2007</td>\n",
       "      <td>국원초1길 48</td>\n",
       "    </tr>\n",
       "    <tr>\n",
       "      <th>42663</th>\n",
       "      <td>충청북도 충주시 연수동</td>\n",
       "      <td>1627</td>\n",
       "      <td>1627</td>\n",
       "      <td>0</td>\n",
       "      <td>연수힐스테이트</td>\n",
       "      <td>143.2109</td>\n",
       "      <td>201910</td>\n",
       "      <td>14</td>\n",
       "      <td>31500</td>\n",
       "      <td>13</td>\n",
       "      <td>2007</td>\n",
       "      <td>연수동산로 26</td>\n",
       "    </tr>\n",
       "    <tr>\n",
       "      <th>42736</th>\n",
       "      <td>충청북도 충주시 칠금동</td>\n",
       "      <td>626</td>\n",
       "      <td>626</td>\n",
       "      <td>0</td>\n",
       "      <td>삼일</td>\n",
       "      <td>143.5800</td>\n",
       "      <td>201910</td>\n",
       "      <td>20</td>\n",
       "      <td>18500</td>\n",
       "      <td>12</td>\n",
       "      <td>1996</td>\n",
       "      <td>금릉로 17</td>\n",
       "    </tr>\n",
       "    <tr>\n",
       "      <th>42737</th>\n",
       "      <td>충청북도 충주시 칠금동</td>\n",
       "      <td>626</td>\n",
       "      <td>626</td>\n",
       "      <td>0</td>\n",
       "      <td>삼일</td>\n",
       "      <td>143.5800</td>\n",
       "      <td>201910</td>\n",
       "      <td>21</td>\n",
       "      <td>16200</td>\n",
       "      <td>3</td>\n",
       "      <td>1996</td>\n",
       "      <td>금릉로 17</td>\n",
       "    </tr>\n",
       "  </tbody>\n",
       "</table>\n",
       "<p>1567 rows × 12 columns</p>\n",
       "</div>"
      ],
      "text/plain": [
       "                 지역       번지    본번  부번          아파트        면적    계약년월  계약일  \\\n",
       "6        강원도 강릉시 교동     1982  1982   0  강릉교동롯데캐슬1단지  135.1727  201910   21   \n",
       "39      강원도 강릉시 남문동    183-2   183   2       삼익그린맨션  164.7540  201910   15   \n",
       "334     강원도 속초시 금호동      629   629   0     보람레이크더하임  156.7600  201910   16   \n",
       "433     강원도 원주시 개운동  01월 28일    28   1      원주힐스테이트  133.9912  201910    5   \n",
       "434     강원도 원주시 개운동  01월 28일    28   1      원주힐스테이트  137.4292  201910   31   \n",
       "...             ...      ...   ...  ..          ...       ...     ...  ...   \n",
       "42595  충청북도 충주시 문화동     2260  2260   0           럭키  156.7900  201910   21   \n",
       "42607  충청북도 충주시 안림동     1166  1166   0         엘리시아  136.1287  201910   19   \n",
       "42663  충청북도 충주시 연수동     1627  1627   0      연수힐스테이트  143.2109  201910   14   \n",
       "42736  충청북도 충주시 칠금동      626   626   0           삼일  143.5800  201910   20   \n",
       "42737  충청북도 충주시 칠금동      626   626   0           삼일  143.5800  201910   21   \n",
       "\n",
       "          가격   층  건축년도           도로명  \n",
       "6      34300   9  2009   화부산로99번길 12  \n",
       "39     21000  12  1992      홍제로 7-17  \n",
       "334    29500   1  2008  영랑호반길 115-13  \n",
       "433    26000  16  2006        행구로 54  \n",
       "434    24000  14  2006        행구로 54  \n",
       "...      ...  ..   ...           ...  \n",
       "42595  15000   3  1993     중원대로 3379  \n",
       "42607  18500  12  2007      국원초1길 48  \n",
       "42663  31500  13  2007      연수동산로 26  \n",
       "42736  18500  12  1996        금릉로 17  \n",
       "42737  16200   3  1996        금릉로 17  \n",
       "\n",
       "[1567 rows x 12 columns]"
      ]
     },
     "execution_count": 45,
     "metadata": {},
     "output_type": "execute_result"
    }
   ],
   "source": [
    "df[df.면적>130]  # 실제로 130이 넘는 값(True)만 출력"
   ]
  },
  {
   "cell_type": "code",
   "execution_count": 46,
   "id": "7b27f448",
   "metadata": {},
   "outputs": [
    {
     "data": {
      "text/plain": [
       "6        34300\n",
       "39       21000\n",
       "334      29500\n",
       "433      26000\n",
       "434      24000\n",
       "         ...  \n",
       "42595    15000\n",
       "42607    18500\n",
       "42663    31500\n",
       "42736    18500\n",
       "42737    16200\n",
       "Name: 가격, Length: 1567, dtype: int64"
      ]
     },
     "execution_count": 46,
     "metadata": {},
     "output_type": "execute_result"
    }
   ],
   "source": [
    "df.가격[df.면적>130]"
   ]
  },
  {
   "cell_type": "code",
   "execution_count": 47,
   "id": "904dc501",
   "metadata": {},
   "outputs": [
    {
     "data": {
      "text/plain": [
       "862      14900\n",
       "927      13800\n",
       "16785    14700\n",
       "36733    14700\n",
       "37726    13700\n",
       "38811    14600\n",
       "39487    12000\n",
       "40680    12500\n",
       "41173    14000\n",
       "41578    13000\n",
       "Name: 가격, dtype: int64"
      ]
     },
     "execution_count": 47,
     "metadata": {},
     "output_type": "execute_result"
    }
   ],
   "source": [
    "df.가격[(df.면적>130) & (df.가격<15000)]  # and 연산 "
   ]
  },
  {
   "cell_type": "code",
   "execution_count": 48,
   "id": "f17aee59",
   "metadata": {},
   "outputs": [
    {
     "data": {
      "text/plain": [
       "0        10900\n",
       "6        34300\n",
       "35        4600\n",
       "36       13200\n",
       "37       14700\n",
       "         ...  \n",
       "42753     7000\n",
       "42754    12000\n",
       "42755    11000\n",
       "42756    12000\n",
       "42757    11200\n",
       "Name: 가격, Length: 11499, dtype: int64"
      ]
     },
     "execution_count": 48,
     "metadata": {},
     "output_type": "execute_result"
    }
   ],
   "source": [
    "df.가격[(df.면적>130) | (df.가격<15000)]  # or 연산"
   ]
  },
  {
   "cell_type": "markdown",
   "id": "c6c084a5",
   "metadata": {},
   "source": [
    "#### 4. 원하는 자료만 살펴보기"
   ]
  },
  {
   "cell_type": "code",
   "execution_count": 50,
   "id": "d1ac4c77",
   "metadata": {},
   "outputs": [
    {
     "data": {
      "text/html": [
       "<div>\n",
       "<style scoped>\n",
       "    .dataframe tbody tr th:only-of-type {\n",
       "        vertical-align: middle;\n",
       "    }\n",
       "\n",
       "    .dataframe tbody tr th {\n",
       "        vertical-align: top;\n",
       "    }\n",
       "\n",
       "    .dataframe thead th {\n",
       "        text-align: right;\n",
       "    }\n",
       "</style>\n",
       "<table border=\"1\" class=\"dataframe\">\n",
       "  <thead>\n",
       "    <tr style=\"text-align: right;\">\n",
       "      <th></th>\n",
       "      <th>아파트</th>\n",
       "      <th>가격</th>\n",
       "    </tr>\n",
       "  </thead>\n",
       "  <tbody>\n",
       "    <tr>\n",
       "      <th>0</th>\n",
       "      <td>송정한신</td>\n",
       "      <td>10900</td>\n",
       "    </tr>\n",
       "    <tr>\n",
       "      <th>1</th>\n",
       "      <td>송정한신</td>\n",
       "      <td>18500</td>\n",
       "    </tr>\n",
       "    <tr>\n",
       "      <th>2</th>\n",
       "      <td>송정해변신도브래뉴아파트</td>\n",
       "      <td>25000</td>\n",
       "    </tr>\n",
       "    <tr>\n",
       "      <th>3</th>\n",
       "      <td>송정해변신도브래뉴아파트</td>\n",
       "      <td>20600</td>\n",
       "    </tr>\n",
       "    <tr>\n",
       "      <th>4</th>\n",
       "      <td>송정해변신도브래뉴아파트</td>\n",
       "      <td>20500</td>\n",
       "    </tr>\n",
       "    <tr>\n",
       "      <th>5</th>\n",
       "      <td>강릉 교동 풍림아이원 아파트</td>\n",
       "      <td>29200</td>\n",
       "    </tr>\n",
       "    <tr>\n",
       "      <th>6</th>\n",
       "      <td>강릉교동롯데캐슬1단지</td>\n",
       "      <td>34300</td>\n",
       "    </tr>\n",
       "    <tr>\n",
       "      <th>7</th>\n",
       "      <td>강릉교동롯데캐슬2단지</td>\n",
       "      <td>32500</td>\n",
       "    </tr>\n",
       "    <tr>\n",
       "      <th>8</th>\n",
       "      <td>교동1주공</td>\n",
       "      <td>16200</td>\n",
       "    </tr>\n",
       "    <tr>\n",
       "      <th>9</th>\n",
       "      <td>교동1주공</td>\n",
       "      <td>21550</td>\n",
       "    </tr>\n",
       "    <tr>\n",
       "      <th>10</th>\n",
       "      <td>교동1주공</td>\n",
       "      <td>21800</td>\n",
       "    </tr>\n",
       "  </tbody>\n",
       "</table>\n",
       "</div>"
      ],
      "text/plain": [
       "                아파트     가격\n",
       "0              송정한신  10900\n",
       "1              송정한신  18500\n",
       "2      송정해변신도브래뉴아파트  25000\n",
       "3      송정해변신도브래뉴아파트  20600\n",
       "4      송정해변신도브래뉴아파트  20500\n",
       "5   강릉 교동 풍림아이원 아파트  29200\n",
       "6       강릉교동롯데캐슬1단지  34300\n",
       "7       강릉교동롯데캐슬2단지  32500\n",
       "8             교동1주공  16200\n",
       "9             교동1주공  21550\n",
       "10            교동1주공  21800"
      ]
     },
     "execution_count": 50,
     "metadata": {},
     "output_type": "execute_result"
    }
   ],
   "source": [
    "df.loc[:10, ['아파트', '가격']]  # 아파트와 가격 자료를 10번까지만 출력"
   ]
  },
  {
   "cell_type": "code",
   "execution_count": 51,
   "id": "012eda41",
   "metadata": {},
   "outputs": [
    {
     "data": {
      "text/html": [
       "<div>\n",
       "<style scoped>\n",
       "    .dataframe tbody tr th:only-of-type {\n",
       "        vertical-align: middle;\n",
       "    }\n",
       "\n",
       "    .dataframe tbody tr th {\n",
       "        vertical-align: top;\n",
       "    }\n",
       "\n",
       "    .dataframe thead th {\n",
       "        text-align: right;\n",
       "    }\n",
       "</style>\n",
       "<table border=\"1\" class=\"dataframe\">\n",
       "  <thead>\n",
       "    <tr style=\"text-align: right;\">\n",
       "      <th></th>\n",
       "      <th>아파트</th>\n",
       "      <th>가격</th>\n",
       "    </tr>\n",
       "  </thead>\n",
       "  <tbody>\n",
       "    <tr>\n",
       "      <th>382</th>\n",
       "      <td>속초청호아이파크</td>\n",
       "      <td>45800</td>\n",
       "    </tr>\n",
       "    <tr>\n",
       "      <th>541</th>\n",
       "      <td>무실e-편한세상</td>\n",
       "      <td>44600</td>\n",
       "    </tr>\n",
       "    <tr>\n",
       "      <th>592</th>\n",
       "      <td>원주반곡아이파크</td>\n",
       "      <td>40700</td>\n",
       "    </tr>\n",
       "    <tr>\n",
       "      <th>842</th>\n",
       "      <td>온의 롯데캐슬 스카이클래스</td>\n",
       "      <td>44000</td>\n",
       "    </tr>\n",
       "    <tr>\n",
       "      <th>843</th>\n",
       "      <td>온의 롯데캐슬 스카이클래스</td>\n",
       "      <td>42900</td>\n",
       "    </tr>\n",
       "    <tr>\n",
       "      <th>...</th>\n",
       "      <td>...</td>\n",
       "      <td>...</td>\n",
       "    </tr>\n",
       "    <tr>\n",
       "      <th>42364</th>\n",
       "      <td>신영지웰시티 1차</td>\n",
       "      <td>47700</td>\n",
       "    </tr>\n",
       "    <tr>\n",
       "      <th>42365</th>\n",
       "      <td>신영지웰시티 1차</td>\n",
       "      <td>46000</td>\n",
       "    </tr>\n",
       "    <tr>\n",
       "      <th>42366</th>\n",
       "      <td>신영지웰시티 1차</td>\n",
       "      <td>55800</td>\n",
       "    </tr>\n",
       "    <tr>\n",
       "      <th>42367</th>\n",
       "      <td>신영지웰시티 1차</td>\n",
       "      <td>67000</td>\n",
       "    </tr>\n",
       "    <tr>\n",
       "      <th>42424</th>\n",
       "      <td>봉명아이파크</td>\n",
       "      <td>49000</td>\n",
       "    </tr>\n",
       "  </tbody>\n",
       "</table>\n",
       "<p>10486 rows × 2 columns</p>\n",
       "</div>"
      ],
      "text/plain": [
       "                  아파트     가격\n",
       "382          속초청호아이파크  45800\n",
       "541          무실e-편한세상  44600\n",
       "592          원주반곡아이파크  40700\n",
       "842    온의 롯데캐슬 스카이클래스  44000\n",
       "843    온의 롯데캐슬 스카이클래스  42900\n",
       "...               ...    ...\n",
       "42364       신영지웰시티 1차  47700\n",
       "42365       신영지웰시티 1차  46000\n",
       "42366       신영지웰시티 1차  55800\n",
       "42367       신영지웰시티 1차  67000\n",
       "42424          봉명아이파크  49000\n",
       "\n",
       "[10486 rows x 2 columns]"
      ]
     },
     "execution_count": 51,
     "metadata": {},
     "output_type": "execute_result"
    }
   ],
   "source": [
    "df.loc[:, ['아파트', '가격']][df.가격>40000]  # 조건을 만족하는 내용만 출력"
   ]
  },
  {
   "cell_type": "markdown",
   "id": "59afc739",
   "metadata": {},
   "source": [
    "#### 5. 새로운 값 출력하기"
   ]
  },
  {
   "cell_type": "code",
   "execution_count": 52,
   "id": "f6611c9f",
   "metadata": {},
   "outputs": [],
   "source": [
    "df['단가'] = df.가격/df.면적"
   ]
  },
  {
   "cell_type": "code",
   "execution_count": 53,
   "id": "c5e97836",
   "metadata": {},
   "outputs": [
    {
     "data": {
      "text/plain": [
       "0        182.274247\n",
       "1        159.242522\n",
       "2        294.152253\n",
       "3        242.381457\n",
       "4        241.204848\n",
       "            ...    \n",
       "42753    117.135207\n",
       "42754    141.709967\n",
       "42755    129.900803\n",
       "42756    141.709967\n",
       "42757    132.262636\n",
       "Name: 단가, Length: 42758, dtype: float64"
      ]
     },
     "execution_count": 53,
     "metadata": {},
     "output_type": "execute_result"
    }
   ],
   "source": [
    "df.단가"
   ]
  },
  {
   "cell_type": "code",
   "execution_count": 54,
   "id": "3885d0ff",
   "metadata": {},
   "outputs": [
    {
     "data": {
      "text/html": [
       "<div>\n",
       "<style scoped>\n",
       "    .dataframe tbody tr th:only-of-type {\n",
       "        vertical-align: middle;\n",
       "    }\n",
       "\n",
       "    .dataframe tbody tr th {\n",
       "        vertical-align: top;\n",
       "    }\n",
       "\n",
       "    .dataframe thead th {\n",
       "        text-align: right;\n",
       "    }\n",
       "</style>\n",
       "<table border=\"1\" class=\"dataframe\">\n",
       "  <thead>\n",
       "    <tr style=\"text-align: right;\">\n",
       "      <th></th>\n",
       "      <th>가격</th>\n",
       "      <th>면적</th>\n",
       "      <th>단가</th>\n",
       "    </tr>\n",
       "  </thead>\n",
       "  <tbody>\n",
       "    <tr>\n",
       "      <th>0</th>\n",
       "      <td>10900</td>\n",
       "      <td>59.8000</td>\n",
       "      <td>182.274247</td>\n",
       "    </tr>\n",
       "    <tr>\n",
       "      <th>1</th>\n",
       "      <td>18500</td>\n",
       "      <td>116.1750</td>\n",
       "      <td>159.242522</td>\n",
       "    </tr>\n",
       "    <tr>\n",
       "      <th>2</th>\n",
       "      <td>25000</td>\n",
       "      <td>84.9900</td>\n",
       "      <td>294.152253</td>\n",
       "    </tr>\n",
       "    <tr>\n",
       "      <th>3</th>\n",
       "      <td>20600</td>\n",
       "      <td>84.9900</td>\n",
       "      <td>242.381457</td>\n",
       "    </tr>\n",
       "    <tr>\n",
       "      <th>4</th>\n",
       "      <td>20500</td>\n",
       "      <td>84.9900</td>\n",
       "      <td>241.204848</td>\n",
       "    </tr>\n",
       "    <tr>\n",
       "      <th>5</th>\n",
       "      <td>29200</td>\n",
       "      <td>84.9964</td>\n",
       "      <td>343.543962</td>\n",
       "    </tr>\n",
       "    <tr>\n",
       "      <th>6</th>\n",
       "      <td>34300</td>\n",
       "      <td>135.1727</td>\n",
       "      <td>253.749463</td>\n",
       "    </tr>\n",
       "    <tr>\n",
       "      <th>7</th>\n",
       "      <td>32500</td>\n",
       "      <td>118.0686</td>\n",
       "      <td>275.263703</td>\n",
       "    </tr>\n",
       "    <tr>\n",
       "      <th>8</th>\n",
       "      <td>16200</td>\n",
       "      <td>59.8900</td>\n",
       "      <td>270.495909</td>\n",
       "    </tr>\n",
       "    <tr>\n",
       "      <th>9</th>\n",
       "      <td>21550</td>\n",
       "      <td>84.8400</td>\n",
       "      <td>254.007544</td>\n",
       "    </tr>\n",
       "    <tr>\n",
       "      <th>10</th>\n",
       "      <td>21800</td>\n",
       "      <td>84.8400</td>\n",
       "      <td>256.954267</td>\n",
       "    </tr>\n",
       "  </tbody>\n",
       "</table>\n",
       "</div>"
      ],
      "text/plain": [
       "       가격        면적          단가\n",
       "0   10900   59.8000  182.274247\n",
       "1   18500  116.1750  159.242522\n",
       "2   25000   84.9900  294.152253\n",
       "3   20600   84.9900  242.381457\n",
       "4   20500   84.9900  241.204848\n",
       "5   29200   84.9964  343.543962\n",
       "6   34300  135.1727  253.749463\n",
       "7   32500  118.0686  275.263703\n",
       "8   16200   59.8900  270.495909\n",
       "9   21550   84.8400  254.007544\n",
       "10  21800   84.8400  256.954267"
      ]
     },
     "execution_count": 54,
     "metadata": {},
     "output_type": "execute_result"
    }
   ],
   "source": [
    "df.loc[:10, ('가격', '면적', '단가')]"
   ]
  },
  {
   "cell_type": "markdown",
   "id": "8148f977",
   "metadata": {},
   "source": [
    "#### 6. 데이터 정렬하기"
   ]
  },
  {
   "cell_type": "code",
   "execution_count": 58,
   "id": "ec4928c5",
   "metadata": {},
   "outputs": [
    {
     "data": {
      "text/html": [
       "<div>\n",
       "<style scoped>\n",
       "    .dataframe tbody tr th:only-of-type {\n",
       "        vertical-align: middle;\n",
       "    }\n",
       "\n",
       "    .dataframe tbody tr th {\n",
       "        vertical-align: top;\n",
       "    }\n",
       "\n",
       "    .dataframe thead th {\n",
       "        text-align: right;\n",
       "    }\n",
       "</style>\n",
       "<table border=\"1\" class=\"dataframe\">\n",
       "  <thead>\n",
       "    <tr style=\"text-align: right;\">\n",
       "      <th></th>\n",
       "      <th>가격</th>\n",
       "      <th>지역</th>\n",
       "    </tr>\n",
       "  </thead>\n",
       "  <tbody>\n",
       "    <tr>\n",
       "      <th>31258</th>\n",
       "      <td>485000</td>\n",
       "      <td>서울특별시 용산구 한남동</td>\n",
       "    </tr>\n",
       "    <tr>\n",
       "      <th>27061</th>\n",
       "      <td>461000</td>\n",
       "      <td>서울특별시 강남구 도곡동</td>\n",
       "    </tr>\n",
       "    <tr>\n",
       "      <th>29946</th>\n",
       "      <td>415000</td>\n",
       "      <td>서울특별시 서초구 반포동</td>\n",
       "    </tr>\n",
       "    <tr>\n",
       "      <th>26805</th>\n",
       "      <td>376640</td>\n",
       "      <td>부산광역시 해운대구 우동</td>\n",
       "    </tr>\n",
       "    <tr>\n",
       "      <th>27036</th>\n",
       "      <td>373000</td>\n",
       "      <td>서울특별시 강남구 대치동</td>\n",
       "    </tr>\n",
       "    <tr>\n",
       "      <th>...</th>\n",
       "      <td>...</td>\n",
       "      <td>...</td>\n",
       "    </tr>\n",
       "    <tr>\n",
       "      <th>17027</th>\n",
       "      <td>800</td>\n",
       "      <td>경상북도 구미시 원평동</td>\n",
       "    </tr>\n",
       "    <tr>\n",
       "      <th>17025</th>\n",
       "      <td>800</td>\n",
       "      <td>경상북도 구미시 원평동</td>\n",
       "    </tr>\n",
       "    <tr>\n",
       "      <th>17637</th>\n",
       "      <td>750</td>\n",
       "      <td>경상북도 칠곡군 약목면 관호리</td>\n",
       "    </tr>\n",
       "    <tr>\n",
       "      <th>17022</th>\n",
       "      <td>700</td>\n",
       "      <td>경상북도 구미시 원평동</td>\n",
       "    </tr>\n",
       "    <tr>\n",
       "      <th>17024</th>\n",
       "      <td>600</td>\n",
       "      <td>경상북도 구미시 원평동</td>\n",
       "    </tr>\n",
       "  </tbody>\n",
       "</table>\n",
       "<p>42758 rows × 2 columns</p>\n",
       "</div>"
      ],
      "text/plain": [
       "           가격                지역\n",
       "31258  485000     서울특별시 용산구 한남동\n",
       "27061  461000     서울특별시 강남구 도곡동\n",
       "29946  415000     서울특별시 서초구 반포동\n",
       "26805  376640     부산광역시 해운대구 우동\n",
       "27036  373000     서울특별시 강남구 대치동\n",
       "...       ...               ...\n",
       "17027     800      경상북도 구미시 원평동\n",
       "17025     800      경상북도 구미시 원평동\n",
       "17637     750  경상북도 칠곡군 약목면 관호리\n",
       "17022     700      경상북도 구미시 원평동\n",
       "17024     600      경상북도 구미시 원평동\n",
       "\n",
       "[42758 rows x 2 columns]"
      ]
     },
     "execution_count": 58,
     "metadata": {},
     "output_type": "execute_result"
    }
   ],
   "source": [
    "df.sort_values(by ='가격').loc[:, ('가격', '지역')]  # 가격을 기준으로 오름차순 정렬\n",
    "df.sort_values(by ='가격', ascending=False).loc[:, ('가격', '지역')]  # 가격을 기준으로 내림차순 정렬"
   ]
  },
  {
   "cell_type": "code",
   "execution_count": 60,
   "id": "5952bb11",
   "metadata": {},
   "outputs": [
    {
     "data": {
      "text/html": [
       "<div>\n",
       "<style scoped>\n",
       "    .dataframe tbody tr th:only-of-type {\n",
       "        vertical-align: middle;\n",
       "    }\n",
       "\n",
       "    .dataframe tbody tr th {\n",
       "        vertical-align: top;\n",
       "    }\n",
       "\n",
       "    .dataframe thead th {\n",
       "        text-align: right;\n",
       "    }\n",
       "</style>\n",
       "<table border=\"1\" class=\"dataframe\">\n",
       "  <thead>\n",
       "    <tr style=\"text-align: right;\">\n",
       "      <th></th>\n",
       "      <th>가격</th>\n",
       "      <th>면적</th>\n",
       "      <th>계약일</th>\n",
       "    </tr>\n",
       "  </thead>\n",
       "  <tbody>\n",
       "    <tr>\n",
       "      <th>31201</th>\n",
       "      <td>17300</td>\n",
       "      <td>10.020</td>\n",
       "      <td>29</td>\n",
       "    </tr>\n",
       "    <tr>\n",
       "      <th>21534</th>\n",
       "      <td>11000</td>\n",
       "      <td>11.880</td>\n",
       "      <td>1</td>\n",
       "    </tr>\n",
       "    <tr>\n",
       "      <th>31301</th>\n",
       "      <td>11000</td>\n",
       "      <td>12.070</td>\n",
       "      <td>31</td>\n",
       "    </tr>\n",
       "    <tr>\n",
       "      <th>27832</th>\n",
       "      <td>13200</td>\n",
       "      <td>12.330</td>\n",
       "      <td>18</td>\n",
       "    </tr>\n",
       "    <tr>\n",
       "      <th>33870</th>\n",
       "      <td>5200</td>\n",
       "      <td>12.373</td>\n",
       "      <td>28</td>\n",
       "    </tr>\n",
       "    <tr>\n",
       "      <th>...</th>\n",
       "      <td>...</td>\n",
       "      <td>...</td>\n",
       "      <td>...</td>\n",
       "    </tr>\n",
       "    <tr>\n",
       "      <th>27118</th>\n",
       "      <td>245000</td>\n",
       "      <td>242.820</td>\n",
       "      <td>8</td>\n",
       "    </tr>\n",
       "    <tr>\n",
       "      <th>30002</th>\n",
       "      <td>206000</td>\n",
       "      <td>244.420</td>\n",
       "      <td>25</td>\n",
       "    </tr>\n",
       "    <tr>\n",
       "      <th>10106</th>\n",
       "      <td>100000</td>\n",
       "      <td>244.663</td>\n",
       "      <td>6</td>\n",
       "    </tr>\n",
       "    <tr>\n",
       "      <th>31501</th>\n",
       "      <td>240000</td>\n",
       "      <td>273.820</td>\n",
       "      <td>18</td>\n",
       "    </tr>\n",
       "    <tr>\n",
       "      <th>35826</th>\n",
       "      <td>300000</td>\n",
       "      <td>291.336</td>\n",
       "      <td>12</td>\n",
       "    </tr>\n",
       "  </tbody>\n",
       "</table>\n",
       "<p>42137 rows × 3 columns</p>\n",
       "</div>"
      ],
      "text/plain": [
       "           가격       면적  계약일\n",
       "31201   17300   10.020   29\n",
       "21534   11000   11.880    1\n",
       "31301   11000   12.070   31\n",
       "27832   13200   12.330   18\n",
       "33870    5200   12.373   28\n",
       "...       ...      ...  ...\n",
       "27118  245000  242.820    8\n",
       "30002  206000  244.420   25\n",
       "10106  100000  244.663    6\n",
       "31501  240000  273.820   18\n",
       "35826  300000  291.336   12\n",
       "\n",
       "[42137 rows x 3 columns]"
      ]
     },
     "execution_count": 60,
     "metadata": {},
     "output_type": "execute_result"
    }
   ],
   "source": [
    "df[df.가격>4000].sort_values(by='면적').loc[:,('가격','면적','계약일')]"
   ]
  },
  {
   "cell_type": "markdown",
   "id": "3ef3a3b2",
   "metadata": {},
   "source": [
    "#### 7. 문자열 다루기\n",
    "- str.find() 사용하여 특정 문자를 포함하는 열 추출\n",
    "- 찾는 문자열이 없다면 -1을 반환"
   ]
  },
  {
   "cell_type": "code",
   "execution_count": 61,
   "id": "bb4f5273",
   "metadata": {},
   "outputs": [
    {
     "data": {
      "text/plain": [
       "0        4\n",
       "1        4\n",
       "2        4\n",
       "3        4\n",
       "4        4\n",
       "        ..\n",
       "42753   -1\n",
       "42754   -1\n",
       "42755   -1\n",
       "42756   -1\n",
       "42757   -1\n",
       "Name: 지역, Length: 42758, dtype: int64"
      ]
     },
     "execution_count": 61,
     "metadata": {},
     "output_type": "execute_result"
    }
   ],
   "source": [
    "df.지역.str.find('강릉')"
   ]
  },
  {
   "cell_type": "code",
   "execution_count": 63,
   "id": "a2c77b75",
   "metadata": {},
   "outputs": [
    {
     "data": {
      "text/plain": [
       "본번               inf\n",
       "부번      1.085106e+00\n",
       "면적      7.047780e+01\n",
       "계약년월    2.019100e+05\n",
       "계약일     1.527128e+01\n",
       "가격      1.541457e+04\n",
       "층       7.420213e+00\n",
       "건축년도    2.000463e+03\n",
       "단가      2.099422e+02\n",
       "dtype: float64"
      ]
     },
     "execution_count": 63,
     "metadata": {},
     "output_type": "execute_result"
    }
   ],
   "source": [
    "dfF = df[df.지역.str.find('강릉')>-1]  # 강릉에 해당하는 내용만 출력\n",
    "dfF.mean()"
   ]
  },
  {
   "cell_type": "markdown",
   "id": "eebe8d51",
   "metadata": {},
   "source": [
    "- 쉼표가 있는 문자를 숫자로 한 번에 바꾸기(전처리과정)"
   ]
  },
  {
   "cell_type": "code",
   "execution_count": 65,
   "id": "bddd13e3",
   "metadata": {},
   "outputs": [],
   "source": [
    "# 쉼표가 제거되지 않은 실습파일 apt_comma.csv 이용"
   ]
  },
  {
   "cell_type": "code",
   "execution_count": 66,
   "id": "8c7c5e57",
   "metadata": {},
   "outputs": [],
   "source": [
    "df = pd.read_csv('apt_comma.csv', encoding='cp949')"
   ]
  },
  {
   "cell_type": "code",
   "execution_count": 69,
   "id": "f99098c6",
   "metadata": {},
   "outputs": [
    {
     "name": "stdout",
     "output_type": "stream",
     "text": [
      "<class 'pandas.core.frame.DataFrame'>\n",
      "RangeIndex: 73152 entries, 0 to 73151\n",
      "Data columns (total 9 columns):\n",
      " #   Column  Non-Null Count  Dtype  \n",
      "---  ------  --------------  -----  \n",
      " 0   시군구     73152 non-null  object \n",
      " 1   단지명     73152 non-null  object \n",
      " 2   면적      73152 non-null  float64\n",
      " 3   계약년월    73152 non-null  int64  \n",
      " 4   계약일     73152 non-null  int64  \n",
      " 5   가격      73152 non-null  object \n",
      " 6   층       73152 non-null  int64  \n",
      " 7   건축년도    73152 non-null  int64  \n",
      " 8   도로명     73152 non-null  object \n",
      "dtypes: float64(1), int64(4), object(4)\n",
      "memory usage: 5.0+ MB\n"
     ]
    }
   ],
   "source": [
    "df.info()   # object는 str 타입의 변수를 뜻함 "
   ]
  },
  {
   "cell_type": "code",
   "execution_count": 71,
   "id": "56e301b8",
   "metadata": {},
   "outputs": [],
   "source": [
    "df.가격 = df.가격.str.replace(',', '').astype('int64')"
   ]
  },
  {
   "cell_type": "code",
   "execution_count": 72,
   "id": "48dc9641",
   "metadata": {},
   "outputs": [
    {
     "data": {
      "text/plain": [
       "0         True\n",
       "1        False\n",
       "2        False\n",
       "3         True\n",
       "4        False\n",
       "         ...  \n",
       "73147     True\n",
       "73148     True\n",
       "73149     True\n",
       "73150    False\n",
       "73151    False\n",
       "Name: 가격, Length: 73152, dtype: bool"
      ]
     },
     "execution_count": 72,
     "metadata": {},
     "output_type": "execute_result"
    }
   ],
   "source": [
    "df.가격>14000"
   ]
  },
  {
   "cell_type": "code",
   "execution_count": null,
   "id": "b15bf5a3",
   "metadata": {},
   "outputs": [],
   "source": []
  }
 ],
 "metadata": {
  "kernelspec": {
   "display_name": "Python 3",
   "language": "python",
   "name": "python3"
  },
  "language_info": {
   "codemirror_mode": {
    "name": "ipython",
    "version": 3
   },
   "file_extension": ".py",
   "mimetype": "text/x-python",
   "name": "python",
   "nbconvert_exporter": "python",
   "pygments_lexer": "ipython3",
   "version": "3.8.8"
  }
 },
 "nbformat": 4,
 "nbformat_minor": 5
}
